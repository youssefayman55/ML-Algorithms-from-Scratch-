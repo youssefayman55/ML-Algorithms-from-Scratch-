{
 "cells": [
  {
   "cell_type": "markdown",
   "id": "1e455c71",
   "metadata": {
    "papermill": {
     "duration": 0.005873,
     "end_time": "2024-09-25T09:29:31.720822",
     "exception": false,
     "start_time": "2024-09-25T09:29:31.714949",
     "status": "completed"
    },
    "tags": []
   },
   "source": [
    "# 1- import libraries"
   ]
  },
  {
   "cell_type": "code",
   "execution_count": 1,
   "id": "95f44b00",
   "metadata": {
    "_cell_guid": "b1076dfc-b9ad-4769-8c92-a6c4dae69d19",
    "_uuid": "8f2839f25d086af736a60e9eeb907d3b93b6e0e5",
    "execution": {
     "iopub.execute_input": "2024-09-25T09:29:31.732397Z",
     "iopub.status.busy": "2024-09-25T09:29:31.731909Z",
     "iopub.status.idle": "2024-09-25T09:29:31.743998Z",
     "shell.execute_reply": "2024-09-25T09:29:31.742866Z"
    },
    "papermill": {
     "duration": 0.021009,
     "end_time": "2024-09-25T09:29:31.746790",
     "exception": false,
     "start_time": "2024-09-25T09:29:31.725781",
     "status": "completed"
    },
    "tags": []
   },
   "outputs": [],
   "source": [
    "import numpy as np"
   ]
  },
  {
   "cell_type": "markdown",
   "id": "66419483",
   "metadata": {
    "papermill": {
     "duration": 0.004456,
     "end_time": "2024-09-25T09:29:31.756591",
     "exception": false,
     "start_time": "2024-09-25T09:29:31.752135",
     "status": "completed"
    },
    "tags": []
   },
   "source": [
    "# 2- Calculate Mean Squared Error (MSE)"
   ]
  },
  {
   "cell_type": "code",
   "execution_count": 2,
   "id": "2d38d01d",
   "metadata": {
    "execution": {
     "iopub.execute_input": "2024-09-25T09:29:31.768058Z",
     "iopub.status.busy": "2024-09-25T09:29:31.767236Z",
     "iopub.status.idle": "2024-09-25T09:29:31.772776Z",
     "shell.execute_reply": "2024-09-25T09:29:31.771662Z"
    },
    "papermill": {
     "duration": 0.014258,
     "end_time": "2024-09-25T09:29:31.775564",
     "exception": false,
     "start_time": "2024-09-25T09:29:31.761306",
     "status": "completed"
    },
    "tags": []
   },
   "outputs": [],
   "source": [
    "def mse(y):\n",
    "    return np.mean((y - np.mean(y)) ** 2)"
   ]
  },
  {
   "cell_type": "markdown",
   "id": "edf32cce",
   "metadata": {
    "papermill": {
     "duration": 0.004459,
     "end_time": "2024-09-25T09:29:31.785188",
     "exception": false,
     "start_time": "2024-09-25T09:29:31.780729",
     "status": "completed"
    },
    "tags": []
   },
   "source": [
    "# 3- Calculate Variance Reduction"
   ]
  },
  {
   "cell_type": "code",
   "execution_count": 3,
   "id": "cd5c51b0",
   "metadata": {
    "execution": {
     "iopub.execute_input": "2024-09-25T09:29:31.796546Z",
     "iopub.status.busy": "2024-09-25T09:29:31.796139Z",
     "iopub.status.idle": "2024-09-25T09:29:31.802987Z",
     "shell.execute_reply": "2024-09-25T09:29:31.801852Z"
    },
    "papermill": {
     "duration": 0.015479,
     "end_time": "2024-09-25T09:29:31.805483",
     "exception": false,
     "start_time": "2024-09-25T09:29:31.790004",
     "status": "completed"
    },
    "tags": []
   },
   "outputs": [],
   "source": [
    "def variance_reduction(y, y_left, y_right):\n",
    "    parent_mse = mse(y)\n",
    "    n = len(y)\n",
    "    left_mse = mse(y_left)\n",
    "    right_mse = mse(y_right)\n",
    "    weighted_mse = (len(y_left) / n) * left_mse + (len(y_right) / n) * right_mse\n",
    "    return parent_mse - weighted_mse"
   ]
  },
  {
   "cell_type": "markdown",
   "id": "56a6ea67",
   "metadata": {
    "papermill": {
     "duration": 0.00433,
     "end_time": "2024-09-25T09:29:31.814639",
     "exception": false,
     "start_time": "2024-09-25T09:29:31.810309",
     "status": "completed"
    },
    "tags": []
   },
   "source": [
    "# 4- Node Class"
   ]
  },
  {
   "cell_type": "code",
   "execution_count": 4,
   "id": "070612a6",
   "metadata": {
    "execution": {
     "iopub.execute_input": "2024-09-25T09:29:31.825586Z",
     "iopub.status.busy": "2024-09-25T09:29:31.825196Z",
     "iopub.status.idle": "2024-09-25T09:29:31.831982Z",
     "shell.execute_reply": "2024-09-25T09:29:31.830871Z"
    },
    "papermill": {
     "duration": 0.015119,
     "end_time": "2024-09-25T09:29:31.834364",
     "exception": false,
     "start_time": "2024-09-25T09:29:31.819245",
     "status": "completed"
    },
    "tags": []
   },
   "outputs": [],
   "source": [
    "class DecisionNode:\n",
    "    def __init__(self, feature=None, threshold=None, left=None, right=None, value=None):\n",
    "        self.feature = feature  # Index of the feature to split on\n",
    "        self.threshold = threshold  # Threshold value for splitting\n",
    "        self.left = left  # Left subtree\n",
    "        self.right = right  # Right subtree\n",
    "        self.value = value  # For leaf nodes, this stores the predicted value\n"
   ]
  },
  {
   "cell_type": "markdown",
   "id": "bcd5a27e",
   "metadata": {
    "papermill": {
     "duration": 0.005498,
     "end_time": "2024-09-25T09:29:31.844735",
     "exception": false,
     "start_time": "2024-09-25T09:29:31.839237",
     "status": "completed"
    },
    "tags": []
   },
   "source": [
    "# 5- Decision Tree class"
   ]
  },
  {
   "cell_type": "code",
   "execution_count": 5,
   "id": "0ad53f19",
   "metadata": {
    "execution": {
     "iopub.execute_input": "2024-09-25T09:29:31.856380Z",
     "iopub.status.busy": "2024-09-25T09:29:31.855984Z",
     "iopub.status.idle": "2024-09-25T09:29:31.876776Z",
     "shell.execute_reply": "2024-09-25T09:29:31.875333Z"
    },
    "papermill": {
     "duration": 0.030073,
     "end_time": "2024-09-25T09:29:31.879525",
     "exception": false,
     "start_time": "2024-09-25T09:29:31.849452",
     "status": "completed"
    },
    "tags": []
   },
   "outputs": [],
   "source": [
    "class DecisionTreeRegressor:\n",
    "    def __init__(self, min_samples_split=2, max_depth=100):\n",
    "        self.min_samples_split = min_samples_split\n",
    "        self.max_depth = max_depth\n",
    "        self.root = None\n",
    "\n",
    "    # Fit the tree to the data\n",
    "    def fit(self, X, y):\n",
    "        self.root = self._build_tree(X, y)\n",
    "\n",
    "    # Recursively build the tree\n",
    "    def _build_tree(self, X, y, depth=0):\n",
    "        num_samples, num_features = X.shape\n",
    "        \n",
    "        # Stopping criteria\n",
    "        if (depth >= self.max_depth or num_samples < self.min_samples_split):\n",
    "            leaf_value = self._calculate_leaf_value(y)\n",
    "            return DecisionNode(value=leaf_value)\n",
    "\n",
    "        # Find the best split\n",
    "        best_feature, best_threshold = self._best_split(X, y)\n",
    "        \n",
    "        # Split the data into left and right subsets\n",
    "        left_idxs, right_idxs = self._split(X[:, best_feature], best_threshold)\n",
    "        \n",
    "        # Recursively build left and right subtrees\n",
    "        left_subtree = self._build_tree(X[left_idxs, :], y[left_idxs], depth + 1)\n",
    "        right_subtree = self._build_tree(X[right_idxs, :], y[right_idxs], depth + 1)\n",
    "        \n",
    "        return DecisionNode(feature=best_feature, threshold=best_threshold, left=left_subtree, right=right_subtree)\n",
    "\n",
    "    # Find the best feature and threshold to split the data\n",
    "    def _best_split(self, X, y):\n",
    "        best_gain = -float('inf')\n",
    "        best_feature, best_threshold = None, None\n",
    "\n",
    "        for feature in range(X.shape[1]):\n",
    "            X_column = X[:, feature]\n",
    "            thresholds = np.unique(X_column)\n",
    "            \n",
    "            for threshold in thresholds:\n",
    "                left_idxs, right_idxs = self._split(X_column, threshold)\n",
    "                if len(left_idxs) == 0 or len(right_idxs) == 0:\n",
    "                    continue\n",
    "\n",
    "                y_left, y_right = y[left_idxs], y[right_idxs]\n",
    "                gain = variance_reduction(y, y_left, y_right)\n",
    "\n",
    "                if gain > best_gain:\n",
    "                    best_gain = gain\n",
    "                    best_feature = feature\n",
    "                    best_threshold = threshold\n",
    "\n",
    "        return best_feature, best_threshold\n",
    "\n",
    "    # Split the dataset into two groups\n",
    "    def _split(self, X_column, threshold):\n",
    "        left_idxs = np.argwhere(X_column <= threshold).flatten()\n",
    "        right_idxs = np.argwhere(X_column > threshold).flatten()\n",
    "        return left_idxs, right_idxs\n",
    "\n",
    "    # Calculate the leaf node value (mean of the target values in the node)\n",
    "    def _calculate_leaf_value(self, y):\n",
    "        return np.mean(y)\n",
    "\n",
    "    # Traverse the tree to make a prediction\n",
    "    def _traverse_tree(self, x, node):\n",
    "        if node.value is not None:\n",
    "            return node.value\n",
    "\n",
    "        if x[node.feature] <= node.threshold:\n",
    "            return self._traverse_tree(x, node.left)\n",
    "        else:\n",
    "            return self._traverse_tree(x, node.right)\n",
    "\n",
    "    # Predict the target values for a set of samples\n",
    "    def predict(self, X):\n",
    "        return np.array([self._traverse_tree(x, self.root) for x in X])\n"
   ]
  },
  {
   "cell_type": "markdown",
   "id": "f058e37b",
   "metadata": {
    "papermill": {
     "duration": 0.00433,
     "end_time": "2024-09-25T09:29:31.888690",
     "exception": false,
     "start_time": "2024-09-25T09:29:31.884360",
     "status": "completed"
    },
    "tags": []
   },
   "source": [
    "# 6- Example"
   ]
  },
  {
   "cell_type": "code",
   "execution_count": 6,
   "id": "585d4626",
   "metadata": {
    "execution": {
     "iopub.execute_input": "2024-09-25T09:29:31.900825Z",
     "iopub.status.busy": "2024-09-25T09:29:31.899333Z",
     "iopub.status.idle": "2024-09-25T09:29:31.915855Z",
     "shell.execute_reply": "2024-09-25T09:29:31.914649Z"
    },
    "papermill": {
     "duration": 0.025087,
     "end_time": "2024-09-25T09:29:31.918502",
     "exception": false,
     "start_time": "2024-09-25T09:29:31.893415",
     "status": "completed"
    },
    "tags": []
   },
   "outputs": [
    {
     "name": "stdout",
     "output_type": "stream",
     "text": [
      "Predictions: [274600. 274600. 405000.]\n"
     ]
    }
   ],
   "source": [
    "if __name__ == \"__main__\":\n",
    "    # Example dataset (house sizes and corresponding prices)\n",
    "    X = np.array([[1400], [1600], [1700], [1875], [1100], [1550], [2350], [2450], [1425], [1700]])\n",
    "    y = np.array([245000, 312000, 279000, 308000, 199000, 219000, 405000, 324000, 319000, 255000])\n",
    "\n",
    "    # Initialize and fit the decision tree regressor\n",
    "    tree = DecisionTreeRegressor(max_depth=3)\n",
    "    tree.fit(X, y)\n",
    "\n",
    "    # Make predictions\n",
    "    X_test = np.array([[1500], [1800], [2200]])  # Test data (new house sizes)\n",
    "    predictions = tree.predict(X_test)\n",
    "    print(\"Predictions:\", predictions)"
   ]
  },
  {
   "cell_type": "code",
   "execution_count": null,
   "id": "3e1c3ad0",
   "metadata": {
    "papermill": {
     "duration": 0.004541,
     "end_time": "2024-09-25T09:29:31.927981",
     "exception": false,
     "start_time": "2024-09-25T09:29:31.923440",
     "status": "completed"
    },
    "tags": []
   },
   "outputs": [],
   "source": []
  }
 ],
 "metadata": {
  "kaggle": {
   "accelerator": "none",
   "dataSources": [],
   "dockerImageVersionId": 30775,
   "isGpuEnabled": false,
   "isInternetEnabled": true,
   "language": "python",
   "sourceType": "notebook"
  },
  "kernelspec": {
   "display_name": "Python 3",
   "language": "python",
   "name": "python3"
  },
  "language_info": {
   "codemirror_mode": {
    "name": "ipython",
    "version": 3
   },
   "file_extension": ".py",
   "mimetype": "text/x-python",
   "name": "python",
   "nbconvert_exporter": "python",
   "pygments_lexer": "ipython3",
   "version": "3.10.14"
  },
  "papermill": {
   "default_parameters": {},
   "duration": 3.762049,
   "end_time": "2024-09-25T09:29:32.353751",
   "environment_variables": {},
   "exception": null,
   "input_path": "__notebook__.ipynb",
   "output_path": "__notebook__.ipynb",
   "parameters": {},
   "start_time": "2024-09-25T09:29:28.591702",
   "version": "2.6.0"
  }
 },
 "nbformat": 4,
 "nbformat_minor": 5
}
