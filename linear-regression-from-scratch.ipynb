{
 "cells": [
  {
   "cell_type": "markdown",
   "id": "21f56739",
   "metadata": {
    "papermill": {
     "duration": 0.007274,
     "end_time": "2024-09-23T22:40:32.085924",
     "exception": false,
     "start_time": "2024-09-23T22:40:32.078650",
     "status": "completed"
    },
    "tags": []
   },
   "source": [
    "## 1 - Import libraries"
   ]
  },
  {
   "cell_type": "code",
   "execution_count": 1,
   "id": "27bf9462",
   "metadata": {
    "_cell_guid": "b1076dfc-b9ad-4769-8c92-a6c4dae69d19",
    "_uuid": "8f2839f25d086af736a60e9eeb907d3b93b6e0e5",
    "execution": {
     "iopub.execute_input": "2024-09-23T22:40:32.101976Z",
     "iopub.status.busy": "2024-09-23T22:40:32.100710Z",
     "iopub.status.idle": "2024-09-23T22:40:32.560168Z",
     "shell.execute_reply": "2024-09-23T22:40:32.558992Z"
    },
    "papermill": {
     "duration": 0.470468,
     "end_time": "2024-09-23T22:40:32.563177",
     "exception": false,
     "start_time": "2024-09-23T22:40:32.092709",
     "status": "completed"
    },
    "tags": []
   },
   "outputs": [],
   "source": [
    "import pandas as pd\n",
    "import matplotlib.pyplot as plt"
   ]
  },
  {
   "cell_type": "markdown",
   "id": "2fbdb195",
   "metadata": {
    "papermill": {
     "duration": 0.006504,
     "end_time": "2024-09-23T22:40:32.576698",
     "exception": false,
     "start_time": "2024-09-23T22:40:32.570194",
     "status": "completed"
    },
    "tags": []
   },
   "source": [
    "## 2 - Load dataset"
   ]
  },
  {
   "cell_type": "code",
   "execution_count": 2,
   "id": "e800a70e",
   "metadata": {
    "execution": {
     "iopub.execute_input": "2024-09-23T22:40:32.592302Z",
     "iopub.status.busy": "2024-09-23T22:40:32.591688Z",
     "iopub.status.idle": "2024-09-23T22:40:32.615418Z",
     "shell.execute_reply": "2024-09-23T22:40:32.614225Z"
    },
    "papermill": {
     "duration": 0.034754,
     "end_time": "2024-09-23T22:40:32.618260",
     "exception": false,
     "start_time": "2024-09-23T22:40:32.583506",
     "status": "completed"
    },
    "tags": []
   },
   "outputs": [],
   "source": [
    "data = pd.read_csv(\"/kaggle/input/student-performance-predictions/student_performance.csv\")"
   ]
  },
  {
   "cell_type": "code",
   "execution_count": 3,
   "id": "6155765d",
   "metadata": {
    "execution": {
     "iopub.execute_input": "2024-09-23T22:40:32.633839Z",
     "iopub.status.busy": "2024-09-23T22:40:32.633356Z",
     "iopub.status.idle": "2024-09-23T22:40:32.658477Z",
     "shell.execute_reply": "2024-09-23T22:40:32.657344Z"
    },
    "papermill": {
     "duration": 0.035805,
     "end_time": "2024-09-23T22:40:32.661015",
     "exception": false,
     "start_time": "2024-09-23T22:40:32.625210",
     "status": "completed"
    },
    "tags": []
   },
   "outputs": [
    {
     "data": {
      "text/html": [
       "<div>\n",
       "<style scoped>\n",
       "    .dataframe tbody tr th:only-of-type {\n",
       "        vertical-align: middle;\n",
       "    }\n",
       "\n",
       "    .dataframe tbody tr th {\n",
       "        vertical-align: top;\n",
       "    }\n",
       "\n",
       "    .dataframe thead th {\n",
       "        text-align: right;\n",
       "    }\n",
       "</style>\n",
       "<table border=\"1\" class=\"dataframe\">\n",
       "  <thead>\n",
       "    <tr style=\"text-align: right;\">\n",
       "      <th></th>\n",
       "      <th>StudentID</th>\n",
       "      <th>Name</th>\n",
       "      <th>Gender</th>\n",
       "      <th>AttendanceRate</th>\n",
       "      <th>StudyHoursPerWeek</th>\n",
       "      <th>PreviousGrade</th>\n",
       "      <th>ExtracurricularActivities</th>\n",
       "      <th>ParentalSupport</th>\n",
       "      <th>FinalGrade</th>\n",
       "    </tr>\n",
       "  </thead>\n",
       "  <tbody>\n",
       "    <tr>\n",
       "      <th>0</th>\n",
       "      <td>1</td>\n",
       "      <td>John</td>\n",
       "      <td>Male</td>\n",
       "      <td>85</td>\n",
       "      <td>15</td>\n",
       "      <td>78</td>\n",
       "      <td>1</td>\n",
       "      <td>High</td>\n",
       "      <td>80</td>\n",
       "    </tr>\n",
       "    <tr>\n",
       "      <th>1</th>\n",
       "      <td>2</td>\n",
       "      <td>Sarah</td>\n",
       "      <td>Female</td>\n",
       "      <td>90</td>\n",
       "      <td>20</td>\n",
       "      <td>85</td>\n",
       "      <td>2</td>\n",
       "      <td>Medium</td>\n",
       "      <td>87</td>\n",
       "    </tr>\n",
       "    <tr>\n",
       "      <th>2</th>\n",
       "      <td>3</td>\n",
       "      <td>Alex</td>\n",
       "      <td>Male</td>\n",
       "      <td>78</td>\n",
       "      <td>10</td>\n",
       "      <td>65</td>\n",
       "      <td>0</td>\n",
       "      <td>Low</td>\n",
       "      <td>68</td>\n",
       "    </tr>\n",
       "    <tr>\n",
       "      <th>3</th>\n",
       "      <td>4</td>\n",
       "      <td>Michael</td>\n",
       "      <td>Male</td>\n",
       "      <td>92</td>\n",
       "      <td>25</td>\n",
       "      <td>90</td>\n",
       "      <td>3</td>\n",
       "      <td>High</td>\n",
       "      <td>92</td>\n",
       "    </tr>\n",
       "    <tr>\n",
       "      <th>4</th>\n",
       "      <td>5</td>\n",
       "      <td>Emma</td>\n",
       "      <td>Female</td>\n",
       "      <td>88</td>\n",
       "      <td>18</td>\n",
       "      <td>82</td>\n",
       "      <td>2</td>\n",
       "      <td>Medium</td>\n",
       "      <td>85</td>\n",
       "    </tr>\n",
       "  </tbody>\n",
       "</table>\n",
       "</div>"
      ],
      "text/plain": [
       "   StudentID     Name  Gender  AttendanceRate  StudyHoursPerWeek  \\\n",
       "0          1     John    Male              85                 15   \n",
       "1          2    Sarah  Female              90                 20   \n",
       "2          3     Alex    Male              78                 10   \n",
       "3          4  Michael    Male              92                 25   \n",
       "4          5     Emma  Female              88                 18   \n",
       "\n",
       "   PreviousGrade  ExtracurricularActivities ParentalSupport  FinalGrade  \n",
       "0             78                          1            High          80  \n",
       "1             85                          2          Medium          87  \n",
       "2             65                          0             Low          68  \n",
       "3             90                          3            High          92  \n",
       "4             82                          2          Medium          85  "
      ]
     },
     "execution_count": 3,
     "metadata": {},
     "output_type": "execute_result"
    }
   ],
   "source": [
    "data.head()"
   ]
  },
  {
   "cell_type": "code",
   "execution_count": 4,
   "id": "49ab91a2",
   "metadata": {
    "execution": {
     "iopub.execute_input": "2024-09-23T22:40:32.677427Z",
     "iopub.status.busy": "2024-09-23T22:40:32.676954Z",
     "iopub.status.idle": "2024-09-23T22:40:32.684296Z",
     "shell.execute_reply": "2024-09-23T22:40:32.683158Z"
    },
    "papermill": {
     "duration": 0.018736,
     "end_time": "2024-09-23T22:40:32.686942",
     "exception": false,
     "start_time": "2024-09-23T22:40:32.668206",
     "status": "completed"
    },
    "tags": []
   },
   "outputs": [
    {
     "data": {
      "text/plain": [
       "(10, 9)"
      ]
     },
     "execution_count": 4,
     "metadata": {},
     "output_type": "execute_result"
    }
   ],
   "source": [
    "data.shape"
   ]
  },
  {
   "cell_type": "code",
   "execution_count": 5,
   "id": "890a69df",
   "metadata": {
    "execution": {
     "iopub.execute_input": "2024-09-23T22:40:32.703129Z",
     "iopub.status.busy": "2024-09-23T22:40:32.702662Z",
     "iopub.status.idle": "2024-09-23T22:40:32.711213Z",
     "shell.execute_reply": "2024-09-23T22:40:32.710027Z"
    },
    "papermill": {
     "duration": 0.019384,
     "end_time": "2024-09-23T22:40:32.713536",
     "exception": false,
     "start_time": "2024-09-23T22:40:32.694152",
     "status": "completed"
    },
    "tags": []
   },
   "outputs": [
    {
     "data": {
      "text/plain": [
       "0    15\n",
       "1    20\n",
       "2    10\n",
       "3    25\n",
       "4    18\n",
       "5    30\n",
       "6     8\n",
       "7    17\n",
       "8    12\n",
       "9    22\n",
       "Name: StudyHoursPerWeek, dtype: int64"
      ]
     },
     "execution_count": 5,
     "metadata": {},
     "output_type": "execute_result"
    }
   ],
   "source": [
    "data.StudyHoursPerWeek"
   ]
  },
  {
   "cell_type": "code",
   "execution_count": 6,
   "id": "41cd9300",
   "metadata": {
    "execution": {
     "iopub.execute_input": "2024-09-23T22:40:32.731644Z",
     "iopub.status.busy": "2024-09-23T22:40:32.730572Z",
     "iopub.status.idle": "2024-09-23T22:40:32.739264Z",
     "shell.execute_reply": "2024-09-23T22:40:32.738187Z"
    },
    "papermill": {
     "duration": 0.020507,
     "end_time": "2024-09-23T22:40:32.741744",
     "exception": false,
     "start_time": "2024-09-23T22:40:32.721237",
     "status": "completed"
    },
    "tags": []
   },
   "outputs": [
    {
     "data": {
      "text/plain": [
       "0    80\n",
       "1    87\n",
       "2    68\n",
       "3    92\n",
       "4    85\n",
       "5    90\n",
       "6    62\n",
       "7    78\n",
       "8    72\n",
       "9    88\n",
       "Name: FinalGrade, dtype: int64"
      ]
     },
     "execution_count": 6,
     "metadata": {},
     "output_type": "execute_result"
    }
   ],
   "source": [
    "data.FinalGrade"
   ]
  },
  {
   "cell_type": "markdown",
   "id": "bae8441a",
   "metadata": {
    "papermill": {
     "duration": 0.007487,
     "end_time": "2024-09-23T22:40:32.756953",
     "exception": false,
     "start_time": "2024-09-23T22:40:32.749466",
     "status": "completed"
    },
    "tags": []
   },
   "source": [
    "## 3 - Visualizing the data "
   ]
  },
  {
   "cell_type": "code",
   "execution_count": 7,
   "id": "b634a0b6",
   "metadata": {
    "execution": {
     "iopub.execute_input": "2024-09-23T22:40:32.774016Z",
     "iopub.status.busy": "2024-09-23T22:40:32.773565Z",
     "iopub.status.idle": "2024-09-23T22:40:33.100009Z",
     "shell.execute_reply": "2024-09-23T22:40:33.098845Z"
    },
    "papermill": {
     "duration": 0.337976,
     "end_time": "2024-09-23T22:40:33.102521",
     "exception": false,
     "start_time": "2024-09-23T22:40:32.764545",
     "status": "completed"
    },
    "tags": []
   },
   "outputs": [
    {
     "data": {
      "image/png": "[encoded data removed]",
      "text/plain": [
       "<Figure size 640x480 with 1 Axes>"
      ]
     },
     "metadata": {},
     "output_type": "display_data"
    }
   ],
   "source": [
    "plt.scatter(data.StudyHoursPerWeek , data.FinalGrade , color = 'red')\n",
    "plt.title(\"Study Hours Per Week vs. Final Grade \")\n",
    "plt.xlabel(\"Study Hours Per Week\")\n",
    "plt.ylabel(\"Final Grade\")\n",
    "plt.show()"
   ]
  },
  {
   "cell_type": "markdown",
   "id": "6bb46b62",
   "metadata": {
    "papermill": {
     "duration": 0.007744,
     "end_time": "2024-09-23T22:40:33.118413",
     "exception": false,
     "start_time": "2024-09-23T22:40:33.110669",
     "status": "completed"
    },
    "tags": []
   },
   "source": [
    "## 4 - Loss Function "
   ]
  },
  {
   "cell_type": "code",
   "execution_count": 8,
   "id": "7062927b",
   "metadata": {
    "execution": {
     "iopub.execute_input": "2024-09-23T22:40:33.136391Z",
     "iopub.status.busy": "2024-09-23T22:40:33.135912Z",
     "iopub.status.idle": "2024-09-23T22:40:33.143028Z",
     "shell.execute_reply": "2024-09-23T22:40:33.141992Z"
    },
    "papermill": {
     "duration": 0.019061,
     "end_time": "2024-09-23T22:40:33.145523",
     "exception": false,
     "start_time": "2024-09-23T22:40:33.126462",
     "status": "completed"
    },
    "tags": []
   },
   "outputs": [],
   "source": [
    "def loss_function(m , b, points):\n",
    "    total_error = 0 \n",
    "    for i in range(len(points)):\n",
    "        x = points.iloc[i][\"StudyHoursPerWeek\"]\n",
    "        y = points.iloc[i][\"FinalGrade\"]\n",
    "        total_error += (y - (m * x + b)) ** 2\n",
    "    total_error / float(len(points))"
   ]
  },
  {
   "cell_type": "markdown",
   "id": "3b2a24d1",
   "metadata": {
    "papermill": {
     "duration": 0.007642,
     "end_time": "2024-09-23T22:40:33.161463",
     "exception": false,
     "start_time": "2024-09-23T22:40:33.153821",
     "status": "completed"
    },
    "tags": []
   },
   "source": [
    "## 5 - Gradient descent"
   ]
  },
  {
   "cell_type": "code",
   "execution_count": 9,
   "id": "77fd862d",
   "metadata": {
    "execution": {
     "iopub.execute_input": "2024-09-23T22:40:33.179815Z",
     "iopub.status.busy": "2024-09-23T22:40:33.179380Z",
     "iopub.status.idle": "2024-09-23T22:40:33.188201Z",
     "shell.execute_reply": "2024-09-23T22:40:33.186883Z"
    },
    "papermill": {
     "duration": 0.02141,
     "end_time": "2024-09-23T22:40:33.190902",
     "exception": false,
     "start_time": "2024-09-23T22:40:33.169492",
     "status": "completed"
    },
    "tags": []
   },
   "outputs": [],
   "source": [
    "def gradient_descent(m_now , b_now , points , learning_rate) : \n",
    "    \n",
    "    # set initial values \n",
    "    m_gradient = 0 \n",
    "    b_gradient = 0 \n",
    "    n = len(points)\n",
    "    \n",
    "    for i in range(n):\n",
    "        # X features and Y target\n",
    "        x = points.iloc[i][\"StudyHoursPerWeek\"]\n",
    "        y = points.iloc[i][\"FinalGrade\"]\n",
    "        \n",
    "        # derivatives \n",
    "        m_gradient += -(2/n) * (y - (m_now * x + b_now)) * x \n",
    "        b_gradient += -(2/n) * (y - (m_now * x + b_now))\n",
    "        \n",
    "    # new weigths \n",
    "    m = m_now - learning_rate * m_gradient\n",
    "    b = b_now - learning_rate * b_gradient\n",
    "    \n",
    "    return m , b"
   ]
  },
  {
   "cell_type": "markdown",
   "id": "fe2aa6a8",
   "metadata": {
    "papermill": {
     "duration": 0.007669,
     "end_time": "2024-09-23T22:40:33.206551",
     "exception": false,
     "start_time": "2024-09-23T22:40:33.198882",
     "status": "completed"
    },
    "tags": []
   },
   "source": [
    "## 6 - Calculate Weigths ( m , b )"
   ]
  },
  {
   "cell_type": "code",
   "execution_count": 10,
   "id": "d431aec9",
   "metadata": {
    "execution": {
     "iopub.execute_input": "2024-09-23T22:40:33.224497Z",
     "iopub.status.busy": "2024-09-23T22:40:33.223575Z",
     "iopub.status.idle": "2024-09-23T22:40:47.650546Z",
     "shell.execute_reply": "2024-09-23T22:40:47.649370Z"
    },
    "papermill": {
     "duration": 14.439164,
     "end_time": "2024-09-23T22:40:47.653550",
     "exception": false,
     "start_time": "2024-09-23T22:40:33.214386",
     "status": "completed"
    },
    "tags": []
   },
   "outputs": [],
   "source": [
    "m = 0 \n",
    "b = 0 \n",
    "learning_rate = 0.002 \n",
    "epochs = 10000  \n",
    "\n",
    "for i in range(epochs):\n",
    "    m , b = gradient_descent(m , b, data, learning_rate)"
   ]
  },
  {
   "cell_type": "code",
   "execution_count": 11,
   "id": "105a1dfb",
   "metadata": {
    "execution": {
     "iopub.execute_input": "2024-09-23T22:40:47.671324Z",
     "iopub.status.busy": "2024-09-23T22:40:47.670890Z",
     "iopub.status.idle": "2024-09-23T22:40:47.676878Z",
     "shell.execute_reply": "2024-09-23T22:40:47.675731Z"
    },
    "papermill": {
     "duration": 0.017926,
     "end_time": "2024-09-23T22:40:47.679479",
     "exception": false,
     "start_time": "2024-09-23T22:40:47.661553",
     "status": "completed"
    },
    "tags": []
   },
   "outputs": [
    {
     "name": "stdout",
     "output_type": "stream",
     "text": [
      "m = 1.3903500966337135\n",
      "b = 55.532961665809395\n"
     ]
    }
   ],
   "source": [
    "print(f\"m = {m}\")\n",
    "print(f\"b = {b}\")"
   ]
  },
  {
   "cell_type": "markdown",
   "id": "927c0a18",
   "metadata": {
    "papermill": {
     "duration": 0.00767,
     "end_time": "2024-09-23T22:40:47.695327",
     "exception": false,
     "start_time": "2024-09-23T22:40:47.687657",
     "status": "completed"
    },
    "tags": []
   },
   "source": [
    "## 7 - Visualizing the model with data "
   ]
  },
  {
   "cell_type": "code",
   "execution_count": 12,
   "id": "57b13497",
   "metadata": {
    "execution": {
     "iopub.execute_input": "2024-09-23T22:40:47.712982Z",
     "iopub.status.busy": "2024-09-23T22:40:47.712548Z",
     "iopub.status.idle": "2024-09-23T22:40:47.990539Z",
     "shell.execute_reply": "2024-09-23T22:40:47.989395Z"
    },
    "papermill": {
     "duration": 0.289634,
     "end_time": "2024-09-23T22:40:47.992974",
     "exception": false,
     "start_time": "2024-09-23T22:40:47.703340",
     "status": "completed"
    },
    "tags": []
   },
   "outputs": [
    {
     "data": {
      "image/png": "[encoded data removed]",
      "text/plain": [
       "<Figure size 640x480 with 1 Axes>"
      ]
     },
     "metadata": {},
     "output_type": "display_data"
    }
   ],
   "source": [
    "plt.scatter(data.StudyHoursPerWeek , data.FinalGrade , color = 'red')\n",
    "plt.plot(list(range(5,35)) , [m * x + b for x in   range(5,35)] , color = \"black\")\n",
    "plt.show()"
   ]
  },
  {
   "cell_type": "code",
   "execution_count": null,
   "id": "6ddeaba4",
   "metadata": {
    "papermill": {
     "duration": 0.008595,
     "end_time": "2024-09-23T22:40:48.010351",
     "exception": false,
     "start_time": "2024-09-23T22:40:48.001756",
     "status": "completed"
    },
    "tags": []
   },
   "outputs": [],
   "source": []
  },
  {
   "cell_type": "code",
   "execution_count": null,
   "id": "a22625ea",
   "metadata": {
    "papermill": {
     "duration": 0.008265,
     "end_time": "2024-09-23T22:40:48.027423",
     "exception": false,
     "start_time": "2024-09-23T22:40:48.019158",
     "status": "completed"
    },
    "tags": []
   },
   "outputs": [],
   "source": []
  }
 ],
 "metadata": {
  "kaggle": {
   "accelerator": "none",
   "dataSources": [
    {
     "datasetId": 5644319,
     "sourceId": 9318382,
     "sourceType": "datasetVersion"
    }
   ],
   "dockerImageVersionId": 30761,
   "isGpuEnabled": false,
   "isInternetEnabled": true,
   "language": "python",
   "sourceType": "notebook"
  },
  "kernelspec": {
   "display_name": "Python 3",
   "language": "python",
   "name": "python3"
  },
  "language_info": {
   "codemirror_mode": {
    "name": "ipython",
    "version": 3
   },
   "file_extension": ".py",
   "mimetype": "text/x-python",
   "name": "python",
   "nbconvert_exporter": "python",
   "pygments_lexer": "ipython3",
   "version": "3.10.14"
  },
  "papermill": {
   "default_parameters": {},
   "duration": 19.716214,
   "end_time": "2024-09-23T22:40:48.558413",
   "environment_variables": {},
   "exception": null,
   "input_path": "__notebook__.ipynb",
   "output_path": "__notebook__.ipynb",
   "parameters": {},
   "start_time": "2024-09-23T22:40:28.842199",
   "version": "2.6.0"
  }
 },
 "nbformat": 4,
 "nbformat_minor": 5
}
