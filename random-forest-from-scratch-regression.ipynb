{
 "cells": [
  {
   "cell_type": "markdown",
   "id": "9590d33d",
   "metadata": {
    "papermill": {
     "duration": 0.005155,
     "end_time": "2024-09-26T07:49:28.301400",
     "exception": false,
     "start_time": "2024-09-26T07:49:28.296245",
     "status": "completed"
    },
    "tags": []
   },
   "source": [
    "# 1- import libraries "
   ]
  },
  {
   "cell_type": "code",
   "execution_count": 1,
   "id": "6fc6f716",
   "metadata": {
    "_cell_guid": "b1076dfc-b9ad-4769-8c92-a6c4dae69d19",
    "_uuid": "8f2839f25d086af736a60e9eeb907d3b93b6e0e5",
    "execution": {
     "iopub.execute_input": "2024-09-26T07:49:28.310833Z",
     "iopub.status.busy": "2024-09-26T07:49:28.310400Z",
     "iopub.status.idle": "2024-09-26T07:49:29.761075Z",
     "shell.execute_reply": "2024-09-26T07:49:29.759831Z"
    },
    "papermill": {
     "duration": 1.458678,
     "end_time": "2024-09-26T07:49:29.763991",
     "exception": false,
     "start_time": "2024-09-26T07:49:28.305313",
     "status": "completed"
    },
    "tags": []
   },
   "outputs": [],
   "source": [
    "import numpy as np\n",
    "from sklearn.datasets import fetch_california_housing\n",
    "from sklearn.model_selection import train_test_split\n",
    "from sklearn.metrics import mean_squared_error"
   ]
  },
  {
   "cell_type": "markdown",
   "id": "9bf67375",
   "metadata": {
    "papermill": {
     "duration": 0.003501,
     "end_time": "2024-09-26T07:49:29.771336",
     "exception": false,
     "start_time": "2024-09-26T07:49:29.767835",
     "status": "completed"
    },
    "tags": []
   },
   "source": [
    "# 2-  Decision Tree Class"
   ]
  },
  {
   "cell_type": "code",
   "execution_count": 2,
   "id": "5c40629c",
   "metadata": {
    "execution": {
     "iopub.execute_input": "2024-09-26T07:49:29.781081Z",
     "iopub.status.busy": "2024-09-26T07:49:29.780514Z",
     "iopub.status.idle": "2024-09-26T07:49:29.804090Z",
     "shell.execute_reply": "2024-09-26T07:49:29.802984Z"
    },
    "papermill": {
     "duration": 0.031372,
     "end_time": "2024-09-26T07:49:29.806587",
     "exception": false,
     "start_time": "2024-09-26T07:49:29.775215",
     "status": "completed"
    },
    "tags": []
   },
   "outputs": [],
   "source": [
    "class DecisionTreeRegressor:\n",
    "    def __init__(self, max_depth=None, min_samples_split=2):\n",
    "        self.max_depth = max_depth\n",
    "        self.min_samples_split = min_samples_split\n",
    "        self.tree = None\n",
    "    \n",
    "    def fit(self, X, y):\n",
    "        self.tree = self._build_tree(X, y, depth=0)\n",
    "    \n",
    "    def _build_tree(self, X, y, depth):\n",
    "        num_samples, num_features = X.shape\n",
    "\n",
    "        # Stopping criteria\n",
    "        if depth >= self.max_depth or num_samples < self.min_samples_split:\n",
    "            leaf_value = self._calculate_leaf_value(y)\n",
    "            return leaf_value\n",
    "\n",
    "        # Select the best split\n",
    "        feat_idx, threshold = self._best_split(X, y, num_features)\n",
    "        if feat_idx is None:\n",
    "            return self._calculate_leaf_value(y)\n",
    "        \n",
    "        # Split the data\n",
    "        left_idxs, right_idxs = self._split(X[:, feat_idx], threshold)\n",
    "        left_tree = self._build_tree(X[left_idxs, :], y[left_idxs], depth + 1)\n",
    "        right_tree = self._build_tree(X[right_idxs, :], y[right_idxs], depth + 1)\n",
    "        \n",
    "        return {\"feature_index\": feat_idx, \"threshold\": threshold, \"left\": left_tree, \"right\": right_tree}\n",
    "    \n",
    "    def _best_split(self, X, y, num_features):\n",
    "        best_loss = np.inf\n",
    "        split_idx, split_threshold = None, None\n",
    "        \n",
    "        for feat_idx in range(num_features):\n",
    "            X_column = X[:, feat_idx]\n",
    "            thresholds = np.unique(X_column)\n",
    "            for threshold in thresholds:\n",
    "                loss = self._calculate_loss(X_column, y, threshold)\n",
    "                if loss < best_loss:\n",
    "                    best_loss = loss\n",
    "                    split_idx = feat_idx\n",
    "                    split_threshold = threshold\n",
    "        \n",
    "        return split_idx, split_threshold\n",
    "\n",
    "    def _calculate_loss(self, X_column, y, threshold):\n",
    "        # Split data\n",
    "        left_idxs, right_idxs = self._split(X_column, threshold)\n",
    "        if len(left_idxs) == 0 or len(right_idxs) == 0:\n",
    "            return np.inf\n",
    "        \n",
    "        # Calculate the loss (mean squared error)\n",
    "        left_loss = self._mean_squared_error(y[left_idxs])\n",
    "        right_loss = self._mean_squared_error(y[right_idxs])\n",
    "        \n",
    "        num_left, num_right = len(left_idxs), len(right_idxs)\n",
    "        total_loss = (num_left / len(y)) * left_loss + (num_right / len(y)) * right_loss\n",
    "        \n",
    "        return total_loss\n",
    "\n",
    "    def _split(self, X_column, split_threshold):\n",
    "        left_idxs = np.where(X_column <= split_threshold)[0]\n",
    "        right_idxs = np.where(X_column > split_threshold)[0]\n",
    "        return left_idxs, right_idxs\n",
    "\n",
    "    def _mean_squared_error(self, y):\n",
    "        mean_y = np.mean(y)\n",
    "        mse = np.mean((y - mean_y) ** 2)\n",
    "        return mse\n",
    "    \n",
    "    def _calculate_leaf_value(self, y):\n",
    "        return np.mean(y)\n",
    "    \n",
    "    def predict(self, X):\n",
    "        return np.array([self._traverse_tree(x, self.tree) for x in X])\n",
    "\n",
    "    def _traverse_tree(self, x, tree):\n",
    "        if not isinstance(tree, dict):\n",
    "            return tree\n",
    "        \n",
    "        feature_value = x[tree[\"feature_index\"]]\n",
    "        if feature_value <= tree[\"threshold\"]:\n",
    "            return self._traverse_tree(x, tree[\"left\"])\n",
    "        else:\n",
    "            return self._traverse_tree(x, tree[\"right\"])"
   ]
  },
  {
   "cell_type": "markdown",
   "id": "6c6a45e9",
   "metadata": {
    "papermill": {
     "duration": 0.003379,
     "end_time": "2024-09-26T07:49:29.813809",
     "exception": false,
     "start_time": "2024-09-26T07:49:29.810430",
     "status": "completed"
    },
    "tags": []
   },
   "source": [
    "# 3-  Random Forest Class"
   ]
  },
  {
   "cell_type": "code",
   "execution_count": 3,
   "id": "7e87107d",
   "metadata": {
    "execution": {
     "iopub.execute_input": "2024-09-26T07:49:29.823085Z",
     "iopub.status.busy": "2024-09-26T07:49:29.822641Z",
     "iopub.status.idle": "2024-09-26T07:49:29.833927Z",
     "shell.execute_reply": "2024-09-26T07:49:29.832914Z"
    },
    "papermill": {
     "duration": 0.019203,
     "end_time": "2024-09-26T07:49:29.836676",
     "exception": false,
     "start_time": "2024-09-26T07:49:29.817473",
     "status": "completed"
    },
    "tags": []
   },
   "outputs": [],
   "source": [
    "class RandomForestRegressor:\n",
    "    def __init__(self, n_trees=10, max_depth=None, min_samples_split=2):\n",
    "        self.n_trees = n_trees\n",
    "        self.max_depth = max_depth\n",
    "        self.min_samples_split = min_samples_split\n",
    "        self.trees = []\n",
    "    \n",
    "    def fit(self, X, y):\n",
    "        self.trees = []\n",
    "        for _ in range(self.n_trees):\n",
    "            tree = DecisionTreeRegressor(max_depth=self.max_depth, min_samples_split=self.min_samples_split)\n",
    "            \n",
    "            # Bootstrap sampling\n",
    "            X_sample, y_sample = self._bootstrap_sample(X, y)\n",
    "            \n",
    "            # Fit the decision tree\n",
    "            tree.fit(X_sample, y_sample)\n",
    "            self.trees.append(tree)\n",
    "    \n",
    "    def _bootstrap_sample(self, X, y):\n",
    "        n_samples = X.shape[0]\n",
    "        idxs = np.random.choice(n_samples, size=n_samples, replace=True)\n",
    "        return X[idxs], y[idxs]\n",
    "    \n",
    "    def predict(self, X):\n",
    "        # Make predictions from all trees\n",
    "        tree_preds = np.array([tree.predict(X) for tree in self.trees])\n",
    "        \n",
    "        # Average predictions across trees for regression\n",
    "        return np.mean(tree_preds, axis=0)"
   ]
  },
  {
   "cell_type": "markdown",
   "id": "f0f74a31",
   "metadata": {
    "papermill": {
     "duration": 0.003494,
     "end_time": "2024-09-26T07:49:29.843991",
     "exception": false,
     "start_time": "2024-09-26T07:49:29.840497",
     "status": "completed"
    },
    "tags": []
   },
   "source": [
    "# 4- implementation on California Housing dataset"
   ]
  },
  {
   "cell_type": "code",
   "execution_count": 4,
   "id": "d126ab6d",
   "metadata": {
    "execution": {
     "iopub.execute_input": "2024-09-26T07:49:29.853105Z",
     "iopub.status.busy": "2024-09-26T07:49:29.852654Z",
     "iopub.status.idle": "2024-09-26T08:00:58.140262Z",
     "shell.execute_reply": "2024-09-26T08:00:58.138228Z"
    },
    "papermill": {
     "duration": 688.298501,
     "end_time": "2024-09-26T08:00:58.146115",
     "exception": false,
     "start_time": "2024-09-26T07:49:29.847614",
     "status": "completed"
    },
    "tags": []
   },
   "outputs": [
    {
     "name": "stdout",
     "output_type": "stream",
     "text": [
      "Mean Squared Error: 0.3225\n"
     ]
    }
   ],
   "source": [
    "if __name__ == \"__main__\":\n",
    "    # Load the dataset\n",
    "    data = fetch_california_housing()\n",
    "    X, y = data.data, data.target\n",
    "\n",
    "    # Split the data into training and test sets\n",
    "    X_train, X_test, y_train, y_test = train_test_split(X, y, test_size=0.2, random_state=42)\n",
    "\n",
    "    # Create and train the Random Forest Regressor\n",
    "    forest = RandomForestRegressor(n_trees=10, max_depth=10)\n",
    "    forest.fit(X_train, y_train)\n",
    "\n",
    "    # Make predictions\n",
    "    y_pred = forest.predict(X_test)\n",
    "\n",
    "    # Evaluate the model's performance\n",
    "    mse = mean_squared_error(y_test, y_pred)\n",
    "    print(f\"Mean Squared Error: {mse:.4f}\")"
   ]
  },
  {
   "cell_type": "code",
   "execution_count": null,
   "id": "1f9e1995",
   "metadata": {
    "papermill": {
     "duration": 0.003519,
     "end_time": "2024-09-26T08:00:58.153566",
     "exception": false,
     "start_time": "2024-09-26T08:00:58.150047",
     "status": "completed"
    },
    "tags": []
   },
   "outputs": [],
   "source": []
  }
 ],
 "metadata": {
  "kaggle": {
   "accelerator": "none",
   "dataSources": [],
   "dockerImageVersionId": 30775,
   "isGpuEnabled": false,
   "isInternetEnabled": true,
   "language": "python",
   "sourceType": "notebook"
  },
  "kernelspec": {
   "display_name": "Python 3",
   "language": "python",
   "name": "python3"
  },
  "language_info": {
   "codemirror_mode": {
    "name": "ipython",
    "version": 3
   },
   "file_extension": ".py",
   "mimetype": "text/x-python",
   "name": "python",
   "nbconvert_exporter": "python",
   "pygments_lexer": "ipython3",
   "version": "3.10.14"
  },
  "papermill": {
   "default_parameters": {},
   "duration": 693.356773,
   "end_time": "2024-09-26T08:00:58.679290",
   "environment_variables": {},
   "exception": null,
   "input_path": "__notebook__.ipynb",
   "output_path": "__notebook__.ipynb",
   "parameters": {},
   "start_time": "2024-09-26T07:49:25.322517",
   "version": "2.6.0"
  }
 },
 "nbformat": 4,
 "nbformat_minor": 5
}
