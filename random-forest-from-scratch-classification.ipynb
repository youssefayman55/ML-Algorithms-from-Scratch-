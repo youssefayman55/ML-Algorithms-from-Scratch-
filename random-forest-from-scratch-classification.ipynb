{
 "cells": [
  {
   "cell_type": "markdown",
   "id": "bc26d0f4",
   "metadata": {
    "papermill": {
     "duration": 0.004614,
     "end_time": "2024-09-26T07:36:35.813811",
     "exception": false,
     "start_time": "2024-09-26T07:36:35.809197",
     "status": "completed"
    },
    "tags": []
   },
   "source": [
    "# 1- import libraries"
   ]
  },
  {
   "cell_type": "code",
   "execution_count": 1,
   "id": "a9a38aba",
   "metadata": {
    "_cell_guid": "b1076dfc-b9ad-4769-8c92-a6c4dae69d19",
    "_uuid": "8f2839f25d086af736a60e9eeb907d3b93b6e0e5",
    "execution": {
     "iopub.execute_input": "2024-09-26T07:36:35.823957Z",
     "iopub.status.busy": "2024-09-26T07:36:35.823397Z",
     "iopub.status.idle": "2024-09-26T07:36:37.621442Z",
     "shell.execute_reply": "2024-09-26T07:36:37.620123Z"
    },
    "papermill": {
     "duration": 1.80659,
     "end_time": "2024-09-26T07:36:37.624522",
     "exception": false,
     "start_time": "2024-09-26T07:36:35.817932",
     "status": "completed"
    },
    "tags": []
   },
   "outputs": [],
   "source": [
    "import numpy as np \n",
    "from collections import Counter \n",
    "from sklearn.datasets import load_iris \n",
    "from sklearn.model_selection import train_test_split \n",
    "from sklearn.metrics import accuracy_score"
   ]
  },
  {
   "cell_type": "markdown",
   "id": "5ada8014",
   "metadata": {
    "papermill": {
     "duration": 0.003478,
     "end_time": "2024-09-26T07:36:37.631880",
     "exception": false,
     "start_time": "2024-09-26T07:36:37.628402",
     "status": "completed"
    },
    "tags": []
   },
   "source": [
    "# 2- Decision Tree Class"
   ]
  },
  {
   "cell_type": "code",
   "execution_count": 2,
   "id": "a2f3d499",
   "metadata": {
    "execution": {
     "iopub.execute_input": "2024-09-26T07:36:37.642508Z",
     "iopub.status.busy": "2024-09-26T07:36:37.641851Z",
     "iopub.status.idle": "2024-09-26T07:36:37.666888Z",
     "shell.execute_reply": "2024-09-26T07:36:37.665694Z"
    },
    "papermill": {
     "duration": 0.034053,
     "end_time": "2024-09-26T07:36:37.669831",
     "exception": false,
     "start_time": "2024-09-26T07:36:37.635778",
     "status": "completed"
    },
    "tags": []
   },
   "outputs": [],
   "source": [
    "class DecisionTree:\n",
    "    def __init__(self, max_depth=None, min_samples_split=2):\n",
    "        self.max_depth = max_depth\n",
    "        self.min_samples_split = min_samples_split\n",
    "        self.tree = None\n",
    "    \n",
    "    def fit(self, X, y):\n",
    "        self.tree = self._build_tree(X, y, depth=0)\n",
    "    \n",
    "    def _build_tree(self, X, y, depth):\n",
    "        num_samples, num_features = X.shape\n",
    "        num_labels = len(set(y))\n",
    "\n",
    "        # Stopping criteria\n",
    "        if depth >= self.max_depth or num_samples < self.min_samples_split or num_labels == 1:\n",
    "            leaf_value = self._most_common_label(y)\n",
    "            return leaf_value\n",
    "\n",
    "        # Select the best split\n",
    "        feat_idx, threshold = self._best_split(X, y, num_features)\n",
    "        if feat_idx is None:\n",
    "            return self._most_common_label(y)\n",
    "        \n",
    "        # Split the data\n",
    "        left_idxs, right_idxs = self._split(X[:, feat_idx], threshold)\n",
    "        left_tree = self._build_tree(X[left_idxs, :], y[left_idxs], depth + 1)\n",
    "        right_tree = self._build_tree(X[right_idxs, :], y[right_idxs], depth + 1)\n",
    "        \n",
    "        return {\"feature_index\": feat_idx, \"threshold\": threshold, \"left\": left_tree, \"right\": right_tree}\n",
    "    \n",
    "    def _best_split(self, X, y, num_features):\n",
    "        best_gain = -1\n",
    "        split_idx, split_threshold = None, None\n",
    "        \n",
    "        for feat_idx in range(num_features):\n",
    "            X_column = X[:, feat_idx]\n",
    "            thresholds = np.unique(X_column)\n",
    "            for threshold in thresholds:\n",
    "                gain = self._information_gain(X_column, y, threshold)\n",
    "                if gain > best_gain:\n",
    "                    best_gain = gain\n",
    "                    split_idx = feat_idx\n",
    "                    split_threshold = threshold\n",
    "        \n",
    "        return split_idx, split_threshold\n",
    "\n",
    "    def _information_gain(self, X_column, y, threshold):\n",
    "        # Parent loss (gini)\n",
    "        parent_loss = self._gini(y)\n",
    "        \n",
    "        # Create children\n",
    "        left_idxs, right_idxs = self._split(X_column, threshold)\n",
    "        if len(left_idxs) == 0 or len(right_idxs) == 0:\n",
    "            return 0\n",
    "        \n",
    "        # Weighted average of the loss for the children\n",
    "        num_left, num_right = len(left_idxs), len(right_idxs)\n",
    "        num_total = len(y)\n",
    "        left_loss = self._gini(y[left_idxs])\n",
    "        right_loss = self._gini(y[right_idxs])\n",
    "        child_loss = (num_left / num_total) * left_loss + (num_right / num_total) * right_loss\n",
    "        \n",
    "        # Information gain is difference in loss\n",
    "        ig = parent_loss - child_loss\n",
    "        return ig\n",
    "\n",
    "    def _split(self, X_column, split_threshold):\n",
    "        left_idxs = np.where(X_column <= split_threshold)[0]\n",
    "        right_idxs = np.where(X_column > split_threshold)[0]\n",
    "        return left_idxs, right_idxs\n",
    "    \n",
    "    def _gini(self, y):\n",
    "        labels, counts = np.unique(y, return_counts=True)\n",
    "        probs = counts / len(y)\n",
    "        gini = 1 - np.sum(probs ** 2)\n",
    "        return gini\n",
    "    \n",
    "    def _most_common_label(self, y):\n",
    "        return Counter(y).most_common(1)[0][0]\n",
    "    \n",
    "    def predict(self, X):\n",
    "        return np.array([self._traverse_tree(x, self.tree) for x in X])\n",
    "\n",
    "    def _traverse_tree(self, x, tree):\n",
    "        if not isinstance(tree, dict):\n",
    "            return tree\n",
    "        \n",
    "        feature_value = x[tree[\"feature_index\"]]\n",
    "        if feature_value <= tree[\"threshold\"]:\n",
    "            return self._traverse_tree(x, tree[\"left\"])\n",
    "        else:\n",
    "            return self._traverse_tree(x, tree[\"right\"])\n"
   ]
  },
  {
   "cell_type": "markdown",
   "id": "8dc88201",
   "metadata": {
    "papermill": {
     "duration": 0.003534,
     "end_time": "2024-09-26T07:36:37.677308",
     "exception": false,
     "start_time": "2024-09-26T07:36:37.673774",
     "status": "completed"
    },
    "tags": []
   },
   "source": [
    "# 3- Random Forest Classifier "
   ]
  },
  {
   "cell_type": "code",
   "execution_count": 3,
   "id": "c639b1ef",
   "metadata": {
    "execution": {
     "iopub.execute_input": "2024-09-26T07:36:37.687388Z",
     "iopub.status.busy": "2024-09-26T07:36:37.686259Z",
     "iopub.status.idle": "2024-09-26T07:36:37.698229Z",
     "shell.execute_reply": "2024-09-26T07:36:37.697132Z"
    },
    "papermill": {
     "duration": 0.019845,
     "end_time": "2024-09-26T07:36:37.700989",
     "exception": false,
     "start_time": "2024-09-26T07:36:37.681144",
     "status": "completed"
    },
    "tags": []
   },
   "outputs": [],
   "source": [
    "class RandomForest:\n",
    "    def __init__(self, n_trees=10, max_depth=None, min_samples_split=2, max_features=None):\n",
    "        self.n_trees = n_trees\n",
    "        self.max_depth = max_depth\n",
    "        self.min_samples_split = min_samples_split\n",
    "        self.max_features = max_features\n",
    "        self.trees = []\n",
    "    \n",
    "    def fit(self, X, y):\n",
    "        self.trees = []\n",
    "        for _ in range(self.n_trees):\n",
    "            tree = DecisionTree(max_depth=self.max_depth, min_samples_split=self.min_samples_split)\n",
    "            \n",
    "            # Bootstrap sampling\n",
    "            X_sample, y_sample = self._bootstrap_sample(X, y)\n",
    "            \n",
    "            # Fit the decision tree\n",
    "            tree.fit(X_sample, y_sample)\n",
    "            self.trees.append(tree)\n",
    "    \n",
    "    def _bootstrap_sample(self, X, y):\n",
    "        n_samples = X.shape[0]\n",
    "        idxs = np.random.choice(n_samples, size=n_samples, replace=True)\n",
    "        return X[idxs], y[idxs]\n",
    "    \n",
    "    def predict(self, X):\n",
    "        tree_preds = np.array([tree.predict(X) for tree in self.trees])\n",
    "        return np.array([self._most_common_label(tree_pred) for tree_pred in tree_preds.T])\n",
    "    \n",
    "    def _most_common_label(self, y):\n",
    "        return Counter(y).most_common(1)[0][0]"
   ]
  },
  {
   "cell_type": "markdown",
   "id": "e38a948d",
   "metadata": {
    "papermill": {
     "duration": 0.003673,
     "end_time": "2024-09-26T07:36:37.708546",
     "exception": false,
     "start_time": "2024-09-26T07:36:37.704873",
     "status": "completed"
    },
    "tags": []
   },
   "source": [
    "# 4- implementation on Iris dataset"
   ]
  },
  {
   "cell_type": "code",
   "execution_count": 4,
   "id": "9a052f59",
   "metadata": {
    "execution": {
     "iopub.execute_input": "2024-09-26T07:36:37.718372Z",
     "iopub.status.busy": "2024-09-26T07:36:37.717932Z",
     "iopub.status.idle": "2024-09-26T07:36:38.129616Z",
     "shell.execute_reply": "2024-09-26T07:36:38.128125Z"
    },
    "papermill": {
     "duration": 0.419874,
     "end_time": "2024-09-26T07:36:38.132524",
     "exception": false,
     "start_time": "2024-09-26T07:36:37.712650",
     "status": "completed"
    },
    "tags": []
   },
   "outputs": [
    {
     "name": "stdout",
     "output_type": "stream",
     "text": [
      "Accuracy: 1.0000\n"
     ]
    }
   ],
   "source": [
    "if __name__ == \"__main__\":\n",
    "    data = load_iris()\n",
    "    X, y = data.data, data.target\n",
    "\n",
    "    # Split data into train and test sets\n",
    "    X_train, X_test, y_train, y_test = train_test_split(X, y, test_size=0.2, random_state=42)\n",
    "\n",
    "    # Create and train Random Forest\n",
    "    forest = RandomForest(n_trees=10, max_depth=10)\n",
    "    forest.fit(X_train, y_train)\n",
    "\n",
    "    # Make predictions\n",
    "    y_pred = forest.predict(X_test)\n",
    "\n",
    "    # Evaluate model performance\n",
    "    accuracy = accuracy_score(y_test, y_pred)\n",
    "    print(f\"Accuracy: {accuracy:.4f}\")"
   ]
  },
  {
   "cell_type": "code",
   "execution_count": null,
   "id": "7e7bbc8a",
   "metadata": {
    "papermill": {
     "duration": 0.003836,
     "end_time": "2024-09-26T07:36:38.140564",
     "exception": false,
     "start_time": "2024-09-26T07:36:38.136728",
     "status": "completed"
    },
    "tags": []
   },
   "outputs": [],
   "source": []
  }
 ],
 "metadata": {
  "kaggle": {
   "accelerator": "none",
   "dataSources": [],
   "dockerImageVersionId": 30775,
   "isGpuEnabled": false,
   "isInternetEnabled": true,
   "language": "python",
   "sourceType": "notebook"
  },
  "kernelspec": {
   "display_name": "Python 3",
   "language": "python",
   "name": "python3"
  },
  "language_info": {
   "codemirror_mode": {
    "name": "ipython",
    "version": 3
   },
   "file_extension": ".py",
   "mimetype": "text/x-python",
   "name": "python",
   "nbconvert_exporter": "python",
   "pygments_lexer": "ipython3",
   "version": "3.10.14"
  },
  "papermill": {
   "default_parameters": {},
   "duration": 6.034403,
   "end_time": "2024-09-26T07:36:38.668100",
   "environment_variables": {},
   "exception": null,
   "input_path": "__notebook__.ipynb",
   "output_path": "__notebook__.ipynb",
   "parameters": {},
   "start_time": "2024-09-26T07:36:32.633697",
   "version": "2.6.0"
  }
 },
 "nbformat": 4,
 "nbformat_minor": 5
}
