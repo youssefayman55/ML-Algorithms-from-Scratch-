{
 "cells": [
  {
   "cell_type": "markdown",
   "id": "cde97ca6",
   "metadata": {
    "papermill": {
     "duration": 0.004053,
     "end_time": "2024-09-25T09:23:28.019718",
     "exception": false,
     "start_time": "2024-09-25T09:23:28.015665",
     "status": "completed"
    },
    "tags": []
   },
   "source": [
    "# 1- import libraries "
   ]
  },
  {
   "cell_type": "code",
   "execution_count": 1,
   "id": "7972f606",
   "metadata": {
    "execution": {
     "iopub.execute_input": "2024-09-25T09:23:28.028577Z",
     "iopub.status.busy": "2024-09-25T09:23:28.028158Z",
     "iopub.status.idle": "2024-09-25T09:23:28.857078Z",
     "shell.execute_reply": "2024-09-25T09:23:28.855801Z"
    },
    "papermill": {
     "duration": 0.836192,
     "end_time": "2024-09-25T09:23:28.859585",
     "exception": false,
     "start_time": "2024-09-25T09:23:28.023393",
     "status": "completed"
    },
    "tags": []
   },
   "outputs": [],
   "source": [
    "import numpy as np\n",
    "import pandas as pd\n",
    "from collections import Counter"
   ]
  },
  {
   "cell_type": "markdown",
   "id": "3b053453",
   "metadata": {
    "papermill": {
     "duration": 0.003071,
     "end_time": "2024-09-25T09:23:28.866202",
     "exception": false,
     "start_time": "2024-09-25T09:23:28.863131",
     "status": "completed"
    },
    "tags": []
   },
   "source": [
    "# 2-  Calculate Entropy"
   ]
  },
  {
   "cell_type": "code",
   "execution_count": 2,
   "id": "2f14924b",
   "metadata": {
    "execution": {
     "iopub.execute_input": "2024-09-25T09:23:28.874713Z",
     "iopub.status.busy": "2024-09-25T09:23:28.874196Z",
     "iopub.status.idle": "2024-09-25T09:23:28.880452Z",
     "shell.execute_reply": "2024-09-25T09:23:28.879178Z"
    },
    "papermill": {
     "duration": 0.012951,
     "end_time": "2024-09-25T09:23:28.882527",
     "exception": false,
     "start_time": "2024-09-25T09:23:28.869576",
     "status": "completed"
    },
    "tags": []
   },
   "outputs": [],
   "source": [
    "def entropy(y):\n",
    "    class_counts = np.bincount(y)\n",
    "    probabilities = class_counts / len(y)\n",
    "    return -np.sum([p * np.log2(p) for p in probabilities if p > 0])"
   ]
  },
  {
   "cell_type": "markdown",
   "id": "89f62e37",
   "metadata": {
    "papermill": {
     "duration": 0.003117,
     "end_time": "2024-09-25T09:23:28.889078",
     "exception": false,
     "start_time": "2024-09-25T09:23:28.885961",
     "status": "completed"
    },
    "tags": []
   },
   "source": [
    "# 3- Calculate Information Gain (IG)"
   ]
  },
  {
   "cell_type": "code",
   "execution_count": 3,
   "id": "05377d8a",
   "metadata": {
    "execution": {
     "iopub.execute_input": "2024-09-25T09:23:28.897988Z",
     "iopub.status.busy": "2024-09-25T09:23:28.896978Z",
     "iopub.status.idle": "2024-09-25T09:23:28.903757Z",
     "shell.execute_reply": "2024-09-25T09:23:28.902669Z"
    },
    "papermill": {
     "duration": 0.013794,
     "end_time": "2024-09-25T09:23:28.906259",
     "exception": false,
     "start_time": "2024-09-25T09:23:28.892465",
     "status": "completed"
    },
    "tags": []
   },
   "outputs": [],
   "source": [
    "def information_gain(X_column, y, threshold):\n",
    "    # Split the data into two parts\n",
    "    left_mask = X_column <= threshold\n",
    "    right_mask = X_column > threshold\n",
    "    \n",
    "    # Get left and right splits\n",
    "    left_y, right_y = y[left_mask], y[right_mask]\n",
    "    \n",
    "    # Calculate entropy before and after split\n",
    "    before_split_entropy = entropy(y)\n",
    "    n = len(y)\n",
    "    left_entropy = entropy(left_y)\n",
    "    right_entropy = entropy(right_y)\n",
    "    after_split_entropy = (len(left_y) / n) * left_entropy + (len(right_y) / n) * right_entropy\n",
    "    \n",
    "    # Information gain is the reduction in entropy\n",
    "    return before_split_entropy - after_split_entropy"
   ]
  },
  {
   "cell_type": "markdown",
   "id": "616ac0be",
   "metadata": {
    "papermill": {
     "duration": 0.003122,
     "end_time": "2024-09-25T09:23:28.912887",
     "exception": false,
     "start_time": "2024-09-25T09:23:28.909765",
     "status": "completed"
    },
    "tags": []
   },
   "source": [
    "# 4- Node Class"
   ]
  },
  {
   "cell_type": "code",
   "execution_count": 4,
   "id": "5af4647c",
   "metadata": {
    "execution": {
     "iopub.execute_input": "2024-09-25T09:23:28.921160Z",
     "iopub.status.busy": "2024-09-25T09:23:28.920710Z",
     "iopub.status.idle": "2024-09-25T09:23:28.926587Z",
     "shell.execute_reply": "2024-09-25T09:23:28.925540Z"
    },
    "papermill": {
     "duration": 0.012679,
     "end_time": "2024-09-25T09:23:28.928865",
     "exception": false,
     "start_time": "2024-09-25T09:23:28.916186",
     "status": "completed"
    },
    "tags": []
   },
   "outputs": [],
   "source": [
    "class DecisionNode:\n",
    "    def __init__(self, feature=None, threshold=None, left=None, right=None, value=None):\n",
    "        self.feature = feature  # Index of the feature\n",
    "        self.threshold = threshold  # Value of threshold for split\n",
    "        self.left = left  # Left subtree\n",
    "        self.right = right  # Right subtree\n",
    "        self.value = value  # For leaf node, this will store the class"
   ]
  },
  {
   "cell_type": "markdown",
   "id": "5bd6db52",
   "metadata": {
    "papermill": {
     "duration": 0.00309,
     "end_time": "2024-09-25T09:23:28.935582",
     "exception": false,
     "start_time": "2024-09-25T09:23:28.932492",
     "status": "completed"
    },
    "tags": []
   },
   "source": [
    "# 5-  Decision Tree Class"
   ]
  },
  {
   "cell_type": "code",
   "execution_count": 5,
   "id": "2314e963",
   "metadata": {
    "execution": {
     "iopub.execute_input": "2024-09-25T09:23:28.944038Z",
     "iopub.status.busy": "2024-09-25T09:23:28.943645Z",
     "iopub.status.idle": "2024-09-25T09:23:28.958124Z",
     "shell.execute_reply": "2024-09-25T09:23:28.957080Z"
    },
    "papermill": {
     "duration": 0.021298,
     "end_time": "2024-09-25T09:23:28.960243",
     "exception": false,
     "start_time": "2024-09-25T09:23:28.938945",
     "status": "completed"
    },
    "tags": []
   },
   "outputs": [],
   "source": [
    "class DecisionTree:\n",
    "    def __init__(self, min_samples_split=2, max_depth=100):\n",
    "        self.min_samples_split = min_samples_split\n",
    "        self.max_depth = max_depth\n",
    "        self.root = None\n",
    "\n",
    "    # Build the tree recursively\n",
    "    def fit(self, X, y):\n",
    "        self.root = self._build_tree(X, y)\n",
    "\n",
    "    # Recursively build tree\n",
    "    def _build_tree(self, X, y, depth = 0):\n",
    "        num_samples, num_features = X.shape\n",
    "        num_labels = len(np.unique(y))\n",
    "        \n",
    "        # Stopping criteria\n",
    "        if (depth >= self.max_depth or num_labels == 1 or num_samples < self.min_samples_split):\n",
    "            leaf_value = self._most_common_label(y)\n",
    "            return DecisionNode(value = leaf_value)\n",
    "\n",
    "        # Greedily select the best split\n",
    "        best_feature , best_threshold = self._best_criteria(X, y)\n",
    "        \n",
    "        # Create the child nodes (subtrees)\n",
    "        left_idxs, right_idxs = self._split(X[:, best_feature], best_threshold)\n",
    "        left_subtree = self._build_tree(X[left_idxs, :], y[left_idxs], depth + 1)\n",
    "        right_subtree = self._build_tree(X[right_idxs, :], y[right_idxs], depth + 1)\n",
    "        return DecisionNode(feature = best_feature, threshold = best_threshold, left = left_subtree, right = right_subtree)\n",
    "\n",
    "    # Find the best feature and threshold to split\n",
    "    def _best_criteria(self, X, y):\n",
    "        best_gain = -1\n",
    "        best_feature, best_threshold = None, None\n",
    "        \n",
    "        for feature in range(X.shape[1]):\n",
    "            X_column = X[:, feature]\n",
    "            thresholds = np.unique(X_column)\n",
    "            \n",
    "            for threshold in thresholds:\n",
    "                gain = information_gain(X_column, y, threshold)\n",
    "                \n",
    "                if gain > best_gain:\n",
    "                    best_gain = gain\n",
    "                    best_feature = feature\n",
    "                    best_threshold = threshold\n",
    "                    \n",
    "        return best_feature, best_threshold\n",
    "\n",
    "    # Split data based on threshold\n",
    "    def _split(self, X_column, threshold):\n",
    "        left_idxs = np.argwhere(X_column <= threshold).flatten()\n",
    "        right_idxs = np.argwhere(X_column > threshold).flatten()\n",
    "        return left_idxs, right_idxs\n",
    "\n",
    "    # Get the most common label\n",
    "    def _most_common_label(self, y):\n",
    "        counter = Counter(y)\n",
    "        most_common = counter.most_common(1)[0][0]\n",
    "        return most_common\n",
    "\n",
    "    # Predict function for single sample\n",
    "    def _traverse_tree(self, x, node):\n",
    "        if node.value is not None:\n",
    "            return node.value\n",
    "        \n",
    "        if x[node.feature] <= node.threshold:\n",
    "            return self._traverse_tree(x, node.left)\n",
    "        else:\n",
    "            return self._traverse_tree(x, node.right)\n",
    "\n",
    "    # Predict function for multiple samples\n",
    "    def predict(self, X):\n",
    "        return np.array([self._traverse_tree(x, self.root) for x in X])\n"
   ]
  },
  {
   "cell_type": "markdown",
   "id": "cb4271e4",
   "metadata": {
    "papermill": {
     "duration": 0.003131,
     "end_time": "2024-09-25T09:23:28.966702",
     "exception": false,
     "start_time": "2024-09-25T09:23:28.963571",
     "status": "completed"
    },
    "tags": []
   },
   "source": [
    "# 6- Example "
   ]
  },
  {
   "cell_type": "code",
   "execution_count": 6,
   "id": "1d345de6",
   "metadata": {
    "execution": {
     "iopub.execute_input": "2024-09-25T09:23:28.974991Z",
     "iopub.status.busy": "2024-09-25T09:23:28.974585Z",
     "iopub.status.idle": "2024-09-25T09:23:29.007339Z",
     "shell.execute_reply": "2024-09-25T09:23:29.005884Z"
    },
    "papermill": {
     "duration": 0.03951,
     "end_time": "2024-09-25T09:23:29.009592",
     "exception": false,
     "start_time": "2024-09-25T09:23:28.970082",
     "status": "completed"
    },
    "tags": []
   },
   "outputs": [
    {
     "name": "stdout",
     "output_type": "stream",
     "text": [
      "Predictions: [0 0 1 1 1 0 1 0 1 1 1 1 1 1]\n"
     ]
    }
   ],
   "source": [
    "if __name__ == \"__main__\":\n",
    "    # Example dataset\n",
    "    data = {'Outlook': ['Sunny', 'Sunny', 'Overcast', 'Rain', 'Rain', 'Rain', 'Overcast', 'Sunny', 'Sunny', 'Rain', 'Sunny', 'Overcast', 'Overcast', 'Rain'],\n",
    "            'Temperature': ['Hot', 'Hot', 'Hot', 'Mild', 'Cool', 'Cool', 'Cool', 'Mild', 'Cool', 'Mild', 'Mild', 'Mild', 'Hot', 'Mild'],\n",
    "            'Humidity': ['High', 'High', 'High', 'High', 'Normal', 'Normal', 'Normal', 'High', 'Normal', 'Normal', 'Normal', 'High', 'Normal', 'High'],\n",
    "            'Windy': ['False', 'True', 'False', 'False', 'False', 'True', 'True', 'False', 'False', 'False', 'True', 'True', 'False', 'True'],\n",
    "            'Play': ['No', 'No', 'Yes', 'Yes', 'Yes', 'No', 'Yes', 'No', 'Yes', 'Yes', 'Yes', 'Yes', 'Yes', 'No']}\n",
    "    \n",
    "    df = pd.DataFrame(data)\n",
    "    \n",
    "    # Encoding categorical data\n",
    "    df['Outlook'] = df['Outlook'].map({'Sunny': 0, 'Overcast': 1, 'Rain': 2})\n",
    "    df['Temperature'] = df['Temperature'].map({'Hot': 0, 'Mild': 1, 'Cool': 2})\n",
    "    df['Humidity'] = df['Humidity'].map({'High': 0, 'Normal': 1})\n",
    "    df['Windy'] = df['Windy'].map({'False': 0, 'True': 1})\n",
    "    df['Play'] = df['Play'].map({'No': 0, 'Yes': 1})\n",
    "    \n",
    "    X = df.drop(columns='Play').values\n",
    "    y = df['Play'].values\n",
    "    \n",
    "    # Initialize and fit decision tree\n",
    "    tree = DecisionTree(max_depth=3)\n",
    "    tree.fit(X, y)\n",
    "    \n",
    "    # Make predictions\n",
    "    predictions = tree.predict(X)\n",
    "    print(\"Predictions:\", predictions)"
   ]
  },
  {
   "cell_type": "code",
   "execution_count": null,
   "id": "905477bb",
   "metadata": {
    "papermill": {
     "duration": 0.003128,
     "end_time": "2024-09-25T09:23:29.016192",
     "exception": false,
     "start_time": "2024-09-25T09:23:29.013064",
     "status": "completed"
    },
    "tags": []
   },
   "outputs": [],
   "source": []
  }
 ],
 "metadata": {
  "kaggle": {
   "accelerator": "none",
   "dataSources": [
    {
     "datasetId": 19,
     "sourceId": 420,
     "sourceType": "datasetVersion"
    }
   ],
   "dockerImageVersionId": 30775,
   "isGpuEnabled": false,
   "isInternetEnabled": true,
   "language": "python",
   "sourceType": "notebook"
  },
  "kernelspec": {
   "display_name": "Python 3",
   "language": "python",
   "name": "python3"
  },
  "language_info": {
   "codemirror_mode": {
    "name": "ipython",
    "version": 3
   },
   "file_extension": ".py",
   "mimetype": "text/x-python",
   "name": "python",
   "nbconvert_exporter": "python",
   "pygments_lexer": "ipython3",
   "version": "3.10.14"
  },
  "papermill": {
   "default_parameters": {},
   "duration": 4.038228,
   "end_time": "2024-09-25T09:23:29.438993",
   "environment_variables": {},
   "exception": null,
   "input_path": "__notebook__.ipynb",
   "output_path": "__notebook__.ipynb",
   "parameters": {},
   "start_time": "2024-09-25T09:23:25.400765",
   "version": "2.6.0"
  }
 },
 "nbformat": 4,
 "nbformat_minor": 5
}
