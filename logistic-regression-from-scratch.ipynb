{
 "cells": [
  {
   "cell_type": "markdown",
   "id": "7cbff261",
   "metadata": {
    "papermill": {
     "duration": 0.007708,
     "end_time": "2024-09-24T00:43:09.376009",
     "exception": false,
     "start_time": "2024-09-24T00:43:09.368301",
     "status": "completed"
    },
    "tags": []
   },
   "source": [
    "## 1 - Import libraries"
   ]
  },
  {
   "cell_type": "code",
   "execution_count": 1,
   "id": "fa340b66",
   "metadata": {
    "_cell_guid": "b1076dfc-b9ad-4769-8c92-a6c4dae69d19",
    "_uuid": "8f2839f25d086af736a60e9eeb907d3b93b6e0e5",
    "execution": {
     "iopub.execute_input": "2024-09-24T00:43:09.391704Z",
     "iopub.status.busy": "2024-09-24T00:43:09.391264Z",
     "iopub.status.idle": "2024-09-24T00:43:11.884457Z",
     "shell.execute_reply": "2024-09-24T00:43:11.882100Z"
    },
    "papermill": {
     "duration": 2.505406,
     "end_time": "2024-09-24T00:43:11.888368",
     "exception": false,
     "start_time": "2024-09-24T00:43:09.382962",
     "status": "completed"
    },
    "tags": []
   },
   "outputs": [],
   "source": [
    "import pandas as pd\n",
    "import numpy as np \n",
    "import matplotlib.pyplot as plt\n",
    "\n",
    "from sklearn.model_selection import train_test_split"
   ]
  },
  {
   "cell_type": "markdown",
   "id": "2775a538",
   "metadata": {
    "papermill": {
     "duration": 0.00744,
     "end_time": "2024-09-24T00:43:11.904350",
     "exception": false,
     "start_time": "2024-09-24T00:43:11.896910",
     "status": "completed"
    },
    "tags": []
   },
   "source": [
    "## 2 - Reading the data "
   ]
  },
  {
   "cell_type": "code",
   "execution_count": 2,
   "id": "cd4850be",
   "metadata": {
    "execution": {
     "iopub.execute_input": "2024-09-24T00:43:11.920495Z",
     "iopub.status.busy": "2024-09-24T00:43:11.919930Z",
     "iopub.status.idle": "2024-09-24T00:43:11.969759Z",
     "shell.execute_reply": "2024-09-24T00:43:11.968226Z"
    },
    "papermill": {
     "duration": 0.061659,
     "end_time": "2024-09-24T00:43:11.972982",
     "exception": false,
     "start_time": "2024-09-24T00:43:11.911323",
     "status": "completed"
    },
    "tags": []
   },
   "outputs": [],
   "source": [
    "X_train = pd.read_csv(\"/kaggle/input/titanic-dataset/train_X.csv\")\n",
    "Y_train = pd.read_csv(\"/kaggle/input/titanic-dataset/train_Y.csv\")\n",
    "\n",
    "X_test = pd.read_csv(\"/kaggle/input/titanic-dataset/test_X.csv\")\n",
    "Y_test = pd.read_csv(\"/kaggle/input/titanic-dataset/test_Y.csv\")"
   ]
  },
  {
   "cell_type": "markdown",
   "id": "b182fdb5",
   "metadata": {
    "papermill": {
     "duration": 0.006281,
     "end_time": "2024-09-24T00:43:11.986193",
     "exception": false,
     "start_time": "2024-09-24T00:43:11.979912",
     "status": "completed"
    },
    "tags": []
   },
   "source": [
    "## 3 - Data analysis"
   ]
  },
  {
   "cell_type": "code",
   "execution_count": 3,
   "id": "8be2f532",
   "metadata": {
    "execution": {
     "iopub.execute_input": "2024-09-24T00:43:12.003310Z",
     "iopub.status.busy": "2024-09-24T00:43:12.002581Z",
     "iopub.status.idle": "2024-09-24T00:43:12.035591Z",
     "shell.execute_reply": "2024-09-24T00:43:12.034420Z"
    },
    "papermill": {
     "duration": 0.04473,
     "end_time": "2024-09-24T00:43:12.038753",
     "exception": false,
     "start_time": "2024-09-24T00:43:11.994023",
     "status": "completed"
    },
    "tags": []
   },
   "outputs": [
    {
     "data": {
      "text/html": [
       "<div>\n",
       "<style scoped>\n",
       "    .dataframe tbody tr th:only-of-type {\n",
       "        vertical-align: middle;\n",
       "    }\n",
       "\n",
       "    .dataframe tbody tr th {\n",
       "        vertical-align: top;\n",
       "    }\n",
       "\n",
       "    .dataframe thead th {\n",
       "        text-align: right;\n",
       "    }\n",
       "</style>\n",
       "<table border=\"1\" class=\"dataframe\">\n",
       "  <thead>\n",
       "    <tr style=\"text-align: right;\">\n",
       "      <th></th>\n",
       "      <th>Id</th>\n",
       "      <th>Pclass</th>\n",
       "      <th>Sex</th>\n",
       "      <th>Age</th>\n",
       "      <th>SibSp</th>\n",
       "      <th>Parch</th>\n",
       "      <th>Fare</th>\n",
       "      <th>Embarked</th>\n",
       "    </tr>\n",
       "  </thead>\n",
       "  <tbody>\n",
       "    <tr>\n",
       "      <th>0</th>\n",
       "      <td>0</td>\n",
       "      <td>3</td>\n",
       "      <td>0</td>\n",
       "      <td>22.0</td>\n",
       "      <td>1</td>\n",
       "      <td>0</td>\n",
       "      <td>7.2500</td>\n",
       "      <td>1</td>\n",
       "    </tr>\n",
       "    <tr>\n",
       "      <th>1</th>\n",
       "      <td>1</td>\n",
       "      <td>1</td>\n",
       "      <td>1</td>\n",
       "      <td>38.0</td>\n",
       "      <td>1</td>\n",
       "      <td>0</td>\n",
       "      <td>71.2833</td>\n",
       "      <td>0</td>\n",
       "    </tr>\n",
       "    <tr>\n",
       "      <th>2</th>\n",
       "      <td>2</td>\n",
       "      <td>3</td>\n",
       "      <td>1</td>\n",
       "      <td>26.0</td>\n",
       "      <td>0</td>\n",
       "      <td>0</td>\n",
       "      <td>7.9250</td>\n",
       "      <td>1</td>\n",
       "    </tr>\n",
       "    <tr>\n",
       "      <th>3</th>\n",
       "      <td>3</td>\n",
       "      <td>1</td>\n",
       "      <td>1</td>\n",
       "      <td>35.0</td>\n",
       "      <td>1</td>\n",
       "      <td>0</td>\n",
       "      <td>53.1000</td>\n",
       "      <td>1</td>\n",
       "    </tr>\n",
       "    <tr>\n",
       "      <th>4</th>\n",
       "      <td>4</td>\n",
       "      <td>3</td>\n",
       "      <td>0</td>\n",
       "      <td>35.0</td>\n",
       "      <td>0</td>\n",
       "      <td>0</td>\n",
       "      <td>8.0500</td>\n",
       "      <td>1</td>\n",
       "    </tr>\n",
       "  </tbody>\n",
       "</table>\n",
       "</div>"
      ],
      "text/plain": [
       "   Id  Pclass  Sex   Age  SibSp  Parch     Fare  Embarked\n",
       "0   0       3    0  22.0      1      0   7.2500         1\n",
       "1   1       1    1  38.0      1      0  71.2833         0\n",
       "2   2       3    1  26.0      0      0   7.9250         1\n",
       "3   3       1    1  35.0      1      0  53.1000         1\n",
       "4   4       3    0  35.0      0      0   8.0500         1"
      ]
     },
     "execution_count": 3,
     "metadata": {},
     "output_type": "execute_result"
    }
   ],
   "source": [
    "X_train.head()"
   ]
  },
  {
   "cell_type": "code",
   "execution_count": 4,
   "id": "e1020bf9",
   "metadata": {
    "execution": {
     "iopub.execute_input": "2024-09-24T00:43:12.057516Z",
     "iopub.status.busy": "2024-09-24T00:43:12.056809Z",
     "iopub.status.idle": "2024-09-24T00:43:12.072714Z",
     "shell.execute_reply": "2024-09-24T00:43:12.071130Z"
    },
    "papermill": {
     "duration": 0.028722,
     "end_time": "2024-09-24T00:43:12.075405",
     "exception": false,
     "start_time": "2024-09-24T00:43:12.046683",
     "status": "completed"
    },
    "tags": []
   },
   "outputs": [],
   "source": [
    "X_train = X_train.drop(\"Id\", axis = 1)\n",
    "Y_train = Y_train.drop(\"Id\", axis = 1)\n",
    "X_test = X_test.drop(\"Id\", axis = 1)\n",
    "Y_test = Y_test.drop(\"Id\", axis = 1)"
   ]
  },
  {
   "cell_type": "code",
   "execution_count": 5,
   "id": "f4d350d6",
   "metadata": {
    "execution": {
     "iopub.execute_input": "2024-09-24T00:43:12.092514Z",
     "iopub.status.busy": "2024-09-24T00:43:12.092090Z",
     "iopub.status.idle": "2024-09-24T00:43:12.100797Z",
     "shell.execute_reply": "2024-09-24T00:43:12.099476Z"
    },
    "papermill": {
     "duration": 0.02149,
     "end_time": "2024-09-24T00:43:12.103998",
     "exception": false,
     "start_time": "2024-09-24T00:43:12.082508",
     "status": "completed"
    },
    "tags": []
   },
   "outputs": [],
   "source": [
    "X_train = X_train.values\n",
    "Y_train = Y_train.values\n",
    "X_test = X_test.values\n",
    "Y_test = Y_test.values"
   ]
  },
  {
   "cell_type": "code",
   "execution_count": 6,
   "id": "83715ad1",
   "metadata": {
    "execution": {
     "iopub.execute_input": "2024-09-24T00:43:12.120488Z",
     "iopub.status.busy": "2024-09-24T00:43:12.120035Z",
     "iopub.status.idle": "2024-09-24T00:43:12.126908Z",
     "shell.execute_reply": "2024-09-24T00:43:12.125591Z"
    },
    "papermill": {
     "duration": 0.01949,
     "end_time": "2024-09-24T00:43:12.130821",
     "exception": false,
     "start_time": "2024-09-24T00:43:12.111331",
     "status": "completed"
    },
    "tags": []
   },
   "outputs": [],
   "source": [
    "X_train = X_train.T\n",
    "Y_train = Y_train.reshape(1, X_train.shape[1])\n",
    "\n",
    "X_test = X_test.T\n",
    "Y_test = Y_test.reshape(1, X_test.shape[1])"
   ]
  },
  {
   "cell_type": "code",
   "execution_count": 7,
   "id": "32198d24",
   "metadata": {
    "execution": {
     "iopub.execute_input": "2024-09-24T00:43:12.148399Z",
     "iopub.status.busy": "2024-09-24T00:43:12.147939Z",
     "iopub.status.idle": "2024-09-24T00:43:12.155061Z",
     "shell.execute_reply": "2024-09-24T00:43:12.153898Z"
    },
    "papermill": {
     "duration": 0.019034,
     "end_time": "2024-09-24T00:43:12.158300",
     "exception": false,
     "start_time": "2024-09-24T00:43:12.139266",
     "status": "completed"
    },
    "tags": []
   },
   "outputs": [
    {
     "name": "stdout",
     "output_type": "stream",
     "text": [
      "Shape of X_train :  (7, 891)\n",
      "Shape of Y_train :  (1, 891)\n",
      "Shape of X_test :  (7, 418)\n",
      "Shape of Y_test :  (1, 418)\n"
     ]
    }
   ],
   "source": [
    "print(\"Shape of X_train : \", X_train.shape)\n",
    "print(\"Shape of Y_train : \", Y_train.shape)\n",
    "print(\"Shape of X_test : \", X_test.shape)\n",
    "print(\"Shape of Y_test : \", Y_test.shape)"
   ]
  },
  {
   "cell_type": "markdown",
   "id": "e312c8ff",
   "metadata": {
    "papermill": {
     "duration": 0.006863,
     "end_time": "2024-09-24T00:43:12.172896",
     "exception": false,
     "start_time": "2024-09-24T00:43:12.166033",
     "status": "completed"
    },
    "tags": []
   },
   "source": [
    "## 4 - Sigmoid Function "
   ]
  },
  {
   "cell_type": "code",
   "execution_count": 8,
   "id": "3ec3bde0",
   "metadata": {
    "execution": {
     "iopub.execute_input": "2024-09-24T00:43:12.189250Z",
     "iopub.status.busy": "2024-09-24T00:43:12.188765Z",
     "iopub.status.idle": "2024-09-24T00:43:12.194365Z",
     "shell.execute_reply": "2024-09-24T00:43:12.193208Z"
    },
    "papermill": {
     "duration": 0.016759,
     "end_time": "2024-09-24T00:43:12.196882",
     "exception": false,
     "start_time": "2024-09-24T00:43:12.180123",
     "status": "completed"
    },
    "tags": []
   },
   "outputs": [],
   "source": [
    "def sigmoid(x):\n",
    "    return 1/(1 + np.exp(-x))"
   ]
  },
  {
   "cell_type": "markdown",
   "id": "86365905",
   "metadata": {
    "papermill": {
     "duration": 0.006788,
     "end_time": "2024-09-24T00:43:12.211063",
     "exception": false,
     "start_time": "2024-09-24T00:43:12.204275",
     "status": "completed"
    },
    "tags": []
   },
   "source": [
    "## 5 - Building the model "
   ]
  },
  {
   "cell_type": "code",
   "execution_count": 9,
   "id": "d5905bb5",
   "metadata": {
    "execution": {
     "iopub.execute_input": "2024-09-24T00:43:12.227692Z",
     "iopub.status.busy": "2024-09-24T00:43:12.226536Z",
     "iopub.status.idle": "2024-09-24T00:43:12.238139Z",
     "shell.execute_reply": "2024-09-24T00:43:12.236922Z"
    },
    "papermill": {
     "duration": 0.023228,
     "end_time": "2024-09-24T00:43:12.241334",
     "exception": false,
     "start_time": "2024-09-24T00:43:12.218106",
     "status": "completed"
    },
    "tags": []
   },
   "outputs": [],
   "source": [
    "def model(X, Y, learning_rate, iterations):\n",
    "    \n",
    "    m = X_train.shape[1]\n",
    "    n = X_train.shape[0]\n",
    "    \n",
    "    W = np.zeros((n,1))\n",
    "    B = 0\n",
    "    \n",
    "    cost_list = []\n",
    "    \n",
    "    for i in range(iterations):\n",
    "        \n",
    "        Z = np.dot(W.T, X) + B\n",
    "        A = sigmoid(Z)\n",
    "        \n",
    "        # cost function\n",
    "        cost = -(1/m)*np.sum( Y*np.log(A) + (1-Y)*np.log(1-A))\n",
    "        \n",
    "        # Gradient Descent\n",
    "        dW = (1/m)*np.dot(A-Y, X.T)\n",
    "        dB = (1/m)*np.sum(A - Y)\n",
    "        \n",
    "        W = W - learning_rate*dW.T\n",
    "        B = B - learning_rate*dB\n",
    "        \n",
    "        # Keeping track of our cost function value\n",
    "        cost_list.append(cost)\n",
    "        \n",
    "        if(i%(iterations/10) == 0):\n",
    "            print(\"cost after \", i, \"iteration is : \", cost)\n",
    "        \n",
    "    return W, B, cost_list\n",
    "        "
   ]
  },
  {
   "cell_type": "markdown",
   "id": "b61f2096",
   "metadata": {
    "papermill": {
     "duration": 0.006891,
     "end_time": "2024-09-24T00:43:12.255659",
     "exception": false,
     "start_time": "2024-09-24T00:43:12.248768",
     "status": "completed"
    },
    "tags": []
   },
   "source": [
    "## 6 - Training the model"
   ]
  },
  {
   "cell_type": "code",
   "execution_count": 10,
   "id": "25d885c6",
   "metadata": {
    "execution": {
     "iopub.execute_input": "2024-09-24T00:43:12.271713Z",
     "iopub.status.busy": "2024-09-24T00:43:12.271282Z",
     "iopub.status.idle": "2024-09-24T00:43:23.735931Z",
     "shell.execute_reply": "2024-09-24T00:43:23.734785Z"
    },
    "papermill": {
     "duration": 11.476206,
     "end_time": "2024-09-24T00:43:23.738998",
     "exception": false,
     "start_time": "2024-09-24T00:43:12.262792",
     "status": "completed"
    },
    "tags": []
   },
   "outputs": [
    {
     "name": "stdout",
     "output_type": "stream",
     "text": [
      "cost after  0 iteration is :  0.6931471805599454\n",
      "cost after  10000 iteration is :  0.49652777693895306\n",
      "cost after  20000 iteration is :  0.46674868550666\n",
      "cost after  30000 iteration is :  0.45687787762434423\n",
      "cost after  40000 iteration is :  0.45288994293089646\n",
      "cost after  50000 iteration is :  0.45093260252226425\n",
      "cost after  60000 iteration is :  0.4497708749009468\n",
      "cost after  70000 iteration is :  0.4489640829216279\n",
      "cost after  80000 iteration is :  0.44834126966124827\n",
      "cost after  90000 iteration is :  0.44783045246935776\n"
     ]
    }
   ],
   "source": [
    "iterations = 100000\n",
    "learning_rate = 0.0015\n",
    "W, B, cost_list = model(X_train, Y_train, learning_rate = learning_rate, iterations = iterations)"
   ]
  },
  {
   "cell_type": "code",
   "execution_count": 11,
   "id": "4ade574a",
   "metadata": {
    "execution": {
     "iopub.execute_input": "2024-09-24T00:43:23.756768Z",
     "iopub.status.busy": "2024-09-24T00:43:23.756343Z",
     "iopub.status.idle": "2024-09-24T00:43:24.082011Z",
     "shell.execute_reply": "2024-09-24T00:43:24.080835Z"
    },
    "papermill": {
     "duration": 0.337561,
     "end_time": "2024-09-24T00:43:24.084602",
     "exception": false,
     "start_time": "2024-09-24T00:43:23.747041",
     "status": "completed"
    },
    "tags": []
   },
   "outputs": [
    {
     "data": {
      "image/png": "[encoded data removed]",
      "text/plain": [
       "<Figure size 640x480 with 1 Axes>"
      ]
     },
     "metadata": {},
     "output_type": "display_data"
    }
   ],
   "source": [
    "plt.plot(np.arange(iterations), cost_list)\n",
    "plt.show()"
   ]
  },
  {
   "cell_type": "markdown",
   "id": "c127df4a",
   "metadata": {
    "papermill": {
     "duration": 0.008057,
     "end_time": "2024-09-24T00:43:24.101034",
     "exception": false,
     "start_time": "2024-09-24T00:43:24.092977",
     "status": "completed"
    },
    "tags": []
   },
   "source": [
    "## 7 - Calculating the accuracy "
   ]
  },
  {
   "cell_type": "code",
   "execution_count": 12,
   "id": "79b14176",
   "metadata": {
    "execution": {
     "iopub.execute_input": "2024-09-24T00:43:24.120678Z",
     "iopub.status.busy": "2024-09-24T00:43:24.120218Z",
     "iopub.status.idle": "2024-09-24T00:43:24.127697Z",
     "shell.execute_reply": "2024-09-24T00:43:24.126471Z"
    },
    "papermill": {
     "duration": 0.021165,
     "end_time": "2024-09-24T00:43:24.130552",
     "exception": false,
     "start_time": "2024-09-24T00:43:24.109387",
     "status": "completed"
    },
    "tags": []
   },
   "outputs": [],
   "source": [
    "def accuracy(X, Y, W, B):\n",
    "    \n",
    "    Z = np.dot(W.T, X) + B\n",
    "    A = sigmoid(Z)\n",
    "    \n",
    "    A = A > 0.5\n",
    "    \n",
    "    A = np.array(A, dtype = 'int64')\n",
    "    \n",
    "    acc = (1 - np.sum( np.absolute(A - Y)) / Y.shape[1] ) * 100\n",
    "    \n",
    "    print(\"Accuracy of the model is : \", round(acc, 2), \"%\")"
   ]
  },
  {
   "cell_type": "code",
   "execution_count": 13,
   "id": "2e927cee",
   "metadata": {
    "execution": {
     "iopub.execute_input": "2024-09-24T00:43:24.149721Z",
     "iopub.status.busy": "2024-09-24T00:43:24.149244Z",
     "iopub.status.idle": "2024-09-24T00:43:24.156131Z",
     "shell.execute_reply": "2024-09-24T00:43:24.155068Z"
    },
    "papermill": {
     "duration": 0.019826,
     "end_time": "2024-09-24T00:43:24.159034",
     "exception": false,
     "start_time": "2024-09-24T00:43:24.139208",
     "status": "completed"
    },
    "tags": []
   },
   "outputs": [
    {
     "name": "stdout",
     "output_type": "stream",
     "text": [
      "Accuracy of the model is :  91.39 %\n"
     ]
    }
   ],
   "source": [
    "accuracy(X_test, Y_test, W, B)"
   ]
  }
 ],
 "metadata": {
  "kaggle": {
   "accelerator": "none",
   "dataSources": [
    {
     "datasetId": 4918795,
     "sourceId": 8282214,
     "sourceType": "datasetVersion"
    },
    {
     "datasetId": 5755891,
     "sourceId": 9466286,
     "sourceType": "datasetVersion"
    }
   ],
   "dockerImageVersionId": 30761,
   "isGpuEnabled": false,
   "isInternetEnabled": true,
   "language": "python",
   "sourceType": "notebook"
  },
  "kernelspec": {
   "display_name": "Python 3",
   "language": "python",
   "name": "python3"
  },
  "language_info": {
   "codemirror_mode": {
    "name": "ipython",
    "version": 3
   },
   "file_extension": ".py",
   "mimetype": "text/x-python",
   "name": "python",
   "nbconvert_exporter": "python",
   "pygments_lexer": "ipython3",
   "version": "3.10.14"
  },
  "papermill": {
   "default_parameters": {},
   "duration": 18.600605,
   "end_time": "2024-09-24T00:43:24.789416",
   "environment_variables": {},
   "exception": null,
   "input_path": "__notebook__.ipynb",
   "output_path": "__notebook__.ipynb",
   "parameters": {},
   "start_time": "2024-09-24T00:43:06.188811",
   "version": "2.6.0"
  }
 },
 "nbformat": 4,
 "nbformat_minor": 5
}
